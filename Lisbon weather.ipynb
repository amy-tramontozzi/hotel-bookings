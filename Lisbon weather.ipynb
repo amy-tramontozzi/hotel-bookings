{
 "cells": [
  {
   "cell_type": "code",
   "execution_count": 6,
   "id": "427adf0f",
   "metadata": {},
   "outputs": [
    {
     "name": "stdout",
     "output_type": "stream",
     "text": [
      "Data from 2015-01-01 to 2015-12-31 saved successfully.\n",
      "Data from 2016-01-01 to 2016-12-31 saved successfully.\n",
      "Data from 2017-01-01 to 2017-12-31 saved successfully.\n",
      "All data fetched and saved to lisbon_weather_2015_2017.csv\n"
     ]
    }
   ],
   "source": [
    "import requests\n",
    "import csv\n",
    "import os\n",
    "\n",
    "# Function to fetch and save weather data for a specific date range\n",
    "def fetch_weather_data(start_date, end_date, output_file):\n",
    "    url = f\"https://weather.visualcrossing.com/VisualCrossingWebServices/rest/services/timeline/lisbon/{start_date}/{end_date}?unitGroup=metric&include=days&key=3F45VB8HYDM5A2KVC9VQEE4KB&contentType=csv\"\n",
    "    response = requests.get(url)\n",
    "    \n",
    "    if response.status_code == 200:\n",
    "        # Append data to the file\n",
    "        with open(output_file, 'a', newline='', encoding='utf-8') as file:\n",
    "            if os.path.getsize(output_file) == 0:  # Write header only if file is empty\n",
    "                file.write(response.text)\n",
    "            else:  # Skip header for subsequent writes\n",
    "                file.write('\\n'.join(response.text.split('\\n')[1:]))\n",
    "        print(f\"Data from {start_date} to {end_date} saved successfully.\")\n",
    "    else:\n",
    "        print(f\"Failed to fetch data from {start_date} to {end_date}. HTTP Code: {response.status_code}\")\n",
    "\n",
    "# Output file to store the data\n",
    "output_file = 'lisbon_weather_2015_2017.csv'\n",
    "\n",
    "# Clear the file if it exists\n",
    "if os.path.exists(output_file):\n",
    "    os.remove(output_file)\n",
    "\n",
    "# Date ranges to query (split into smaller chunks)\n",
    "date_ranges = [\n",
    "    ('2015-01-01', '2015-12-31'),\n",
    "    ('2016-01-01', '2016-12-31'),\n",
    "    ('2017-01-01', '2017-12-31')\n",
    "]\n",
    "\n",
    "# Fetch data for each range\n",
    "for start_date, end_date in date_ranges:\n",
    "    fetch_weather_data(start_date, end_date, output_file)\n",
    "\n",
    "print(\"All data fetched and saved to\", output_file)\n"
   ]
  },
  {
   "cell_type": "code",
   "execution_count": null,
   "id": "84d6903b",
   "metadata": {},
   "outputs": [],
   "source": [
    "\n"
   ]
  },
  {
   "cell_type": "code",
   "execution_count": null,
   "id": "716f0d47",
   "metadata": {},
   "outputs": [],
   "source": []
  }
 ],
 "metadata": {
  "kernelspec": {
   "display_name": "Python 3 (ipykernel)",
   "language": "python",
   "name": "python3"
  },
  "language_info": {
   "codemirror_mode": {
    "name": "ipython",
    "version": 3
   },
   "file_extension": ".py",
   "mimetype": "text/x-python",
   "name": "python",
   "nbconvert_exporter": "python",
   "pygments_lexer": "ipython3",
   "version": "3.12.4"
  }
 },
 "nbformat": 4,
 "nbformat_minor": 5
}
